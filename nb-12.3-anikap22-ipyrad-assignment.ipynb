{
 "cells": [
  {
   "cell_type": "markdown",
   "metadata": {},
   "source": [
    "### Assignment: assemble an ipyrad example data set\n",
    "\n",
    "Follow the instructions here: http://ipyrad.readthedocs.io/API_user-guide.html to assemble a dataset using the ipyrad API. You will need to download the dataset as instructed below. This dataset is different from the one in the linked tutorial. Be sure to download the data into your scratch space, and to set the project directory for you ipyrad analysis to your scratch directory. You can use any of the datasets in the downloaded directory. Read the ipyrad docs if you have questions and/or hit up the gitter chatroom. \n",
    "\n",
    "** When finished copy this notebook to your assignments/ dir, push it, and make a pull request**. "
   ]
  },
  {
   "cell_type": "code",
   "execution_count": 9,
   "metadata": {},
   "outputs": [],
   "source": [
    "import ipyrad as ip\n",
    "import ipyparallel as ipp"
   ]
  },
  {
   "cell_type": "markdown",
   "metadata": {},
   "source": [
    "### Download the data\n",
    "You will probably want to move the data to your scratch directory. You can run this code here to download it, or from a terminal. "
   ]
  },
  {
   "cell_type": "code",
   "execution_count": 10,
   "metadata": {
    "scrolled": true
   },
   "outputs": [
    {
     "name": "stdout",
     "output_type": "stream",
     "text": [
      "./ipsimdata/\n",
      "./ipsimdata/pairgbs_example_R2_.fastq.gz\n",
      "./ipsimdata/pairgbs_wmerge_example_barcodes.txt\n",
      "./ipsimdata/rad_example_genome.fa\n",
      "./ipsimdata/pairddrad_example_genome.fa\n",
      "./ipsimdata/pairgbs_example_R1_.fastq.gz\n",
      "./ipsimdata/pairgbs_wmerge_example_R2_.fastq.gz\n",
      "./ipsimdata/rad_example_genome.fa.fai\n",
      "./ipsimdata/pairddrad_example_R2_.fastq.gz\n",
      "./ipsimdata/pairddrad_example_genome.fa.sma\n",
      "./ipsimdata/pairddrad_example_genome.fa.fai\n",
      "./ipsimdata/pairgbs_wmerge_example_genome.fa\n",
      "./ipsimdata/pairddrad_wmerge_example_genome.fa\n",
      "./ipsimdata/pairddrad_example_genome.fa.smi\n",
      "./ipsimdata/pairgbs_wmerge_example_R1_.fastq.gz\n",
      "./ipsimdata/rad_example_genome.fa.smi\n",
      "./ipsimdata/gbs_example_barcodes.txt\n",
      "./ipsimdata/pairgbs_example_barcodes.txt\n",
      "./ipsimdata/pairddrad_example_R1_.fastq.gz\n",
      "./ipsimdata/pairddrad_wmerge_example_barcodes.txt\n",
      "./ipsimdata/rad_example_barcodes.txt\n",
      "./ipsimdata/pairddrad_wmerge_example_R1_.fastq.gz\n",
      "./ipsimdata/pairddrad_wmerge_example_R2_.fastq.gz\n",
      "./ipsimdata/gbs_example_R1_.fastq.gz\n",
      "./ipsimdata/pairddrad_example_barcodes.txt\n",
      "./ipsimdata/rad_example_genome.fa.sma\n",
      "./ipsimdata/rad_example_R1_.fastq.gz\n",
      "./ipsimdata/gbs_example_genome.fa\n"
     ]
    },
    {
     "name": "stderr",
     "output_type": "stream",
     "text": [
      "  % Total    % Received % Xferd  Average Speed   Time    Time     Time  Current\n",
      "                                 Dload  Upload   Total   Spent    Left  Speed\n",
      "\r",
      "  0     0    0     0    0     0      0      0 --:--:-- --:--:-- --:--:--     0\r",
      "  0     0    0     0    0     0      0      0 --:--:-- --:--:-- --:--:--     0\r",
      "100   147  100   147    0     0   1035      0 --:--:-- --:--:-- --:--:--  1027\n",
      "\r",
      "100 11.8M  100 11.8M    0     0  19.4M      0 --:--:-- --:--:-- --:--:-- 19.4M\n"
     ]
    }
   ],
   "source": [
    "%%bash\n",
    "## The curl command needs a capital O, not a zero\n",
    "curl -LkO https://github.com/dereneaton/ipyrad/raw/master/tests/ipsimdata.tar.gz\n",
    "tar -xvzf ipsimdata.tar.gz"
   ]
  },
  {
   "cell_type": "code",
   "execution_count": 11,
   "metadata": {},
   "outputs": [
    {
     "name": "stdout",
     "output_type": "stream",
     "text": [
      "gbs_example_barcodes.txt               pairgbs_example_barcodes.txt\r\n",
      "gbs_example_genome.fa                  \u001b[0m\u001b[01;31mpairgbs_example_R1_.fastq.gz\u001b[0m\r\n",
      "\u001b[01;31mgbs_example_R1_.fastq.gz\u001b[0m               \u001b[01;31mpairgbs_example_R2_.fastq.gz\u001b[0m\r\n",
      "pairddrad_example_barcodes.txt         pairgbs_wmerge_example_barcodes.txt\r\n",
      "pairddrad_example_genome.fa            pairgbs_wmerge_example_genome.fa\r\n",
      "pairddrad_example_genome.fa.fai        \u001b[01;31mpairgbs_wmerge_example_R1_.fastq.gz\u001b[0m\r\n",
      "pairddrad_example_genome.fa.sma        \u001b[01;31mpairgbs_wmerge_example_R2_.fastq.gz\u001b[0m\r\n",
      "pairddrad_example_genome.fa.smi        rad_example_barcodes.txt\r\n",
      "\u001b[01;31mpairddrad_example_R1_.fastq.gz\u001b[0m         rad_example_genome.fa\r\n",
      "\u001b[01;31mpairddrad_example_R2_.fastq.gz\u001b[0m         rad_example_genome.fa.fai\r\n",
      "pairddrad_wmerge_example_barcodes.txt  rad_example_genome.fa.sma\r\n",
      "pairddrad_wmerge_example_genome.fa     rad_example_genome.fa.smi\r\n",
      "\u001b[01;31mpairddrad_wmerge_example_R1_.fastq.gz\u001b[0m  \u001b[01;31mrad_example_R1_.fastq.gz\u001b[0m\r\n",
      "\u001b[01;31mpairddrad_wmerge_example_R2_.fastq.gz\u001b[0m\r\n"
     ]
    }
   ],
   "source": [
    "ls ipsimdata/"
   ]
  },
  {
   "cell_type": "markdown",
   "metadata": {},
   "source": [
    "### Connect to an ipcluster instance"
   ]
  },
  {
   "cell_type": "code",
   "execution_count": 12,
   "metadata": {},
   "outputs": [],
   "source": [
    "# in terminal window do:\n",
    "#ipcluster start --n=4"
   ]
  },
  {
   "cell_type": "code",
   "execution_count": 13,
   "metadata": {},
   "outputs": [
    {
     "name": "stderr",
     "output_type": "stream",
     "text": [
      "UsageError: Line magic function `%px` not found.\n"
     ]
    }
   ],
   "source": [
    "%px import time, os\n",
    "\n",
    "# connect to a running ipcluster instance \n",
    "ipyclient = ipp.Client()"
   ]
  },
  {
   "cell_type": "markdown",
   "metadata": {},
   "source": [
    "### Assembly the dataset from step 1 to step 7"
   ]
  },
  {
   "cell_type": "code",
   "execution_count": 14,
   "metadata": {},
   "outputs": [],
   "source": [
    "#step 1: Demultiplexing / Loading fastq files, \n",
    "#step 2: Filtering / Editing reads, \n",
    "#step 3: Clustering / Mapping reads within Samples and alignment\n",
    "#step 4: Joint estimation of heterozygosity and error rate,\n",
    "#step 5: Consensus base calling and filtering,\n",
    "#step 6: Clustering / Mapping reads among Samples and alignment\n",
    "#step 7: Filtering and formatting output files"
   ]
  },
  {
   "cell_type": "code",
   "execution_count": 15,
   "metadata": {},
   "outputs": [
    {
     "name": "stdout",
     "output_type": "stream",
     "text": [
      "New Assembly: ipsimdata\n",
      "0   assembly_name               ipsimdata                                    \n",
      "1   project_dir                 ./ipsimdata                                  \n",
      "2   raw_fastq_path              ./ipsimdata/pairgbs_wmerge_example_R1_.fastq.gz\n",
      "3   barcodes_path               ./ipsimdata/pairgbs_wmerge_example_barcodes.txt\n",
      "4   sorted_fastq_path                                                        \n",
      "5   assembly_method             denovo                                       \n",
      "6   reference_sequence                                                       \n",
      "7   datatype                    rad                                          \n",
      "8   restriction_overhang        ('TGCAG', '')                                \n",
      "9   max_low_qual_bases          5                                            \n",
      "10  phred_Qscore_offset         33                                           \n",
      "11  mindepth_statistical        6                                            \n",
      "12  mindepth_majrule            6                                            \n",
      "13  maxdepth                    10000                                        \n",
      "14  clust_threshold             0.9                                          \n",
      "15  max_barcode_mismatch        0                                            \n",
      "16  filter_adapters             0                                            \n",
      "17  filter_min_trim_len         35                                           \n",
      "18  max_alleles_consens         2                                            \n",
      "19  max_Ns_consens              (5, 5)                                       \n",
      "20  max_Hs_consens              (8, 8)                                       \n",
      "21  min_samples_locus           4                                            \n",
      "22  max_SNPs_locus              (20, 20)                                     \n",
      "23  max_Indels_locus            (8, 8)                                       \n",
      "24  max_shared_Hs_locus         0.5                                          \n",
      "25  trim_reads                  (0, 0, 0, 0)                                 \n",
      "26  trim_loci                   (0, 0, 0, 0)                                 \n",
      "27  output_formats              ['p', 's', 'v']                              \n",
      "28  pop_assign_file                                                          \n"
     ]
    }
   ],
   "source": [
    "## create an Assembly and modify some parameter settings\n",
    "data1 = ip.Assembly(\"ipsimdata\")\n",
    "data1.set_params(\"project_dir\", \"ipsimdata\")\n",
    "data1.set_params(\"raw_fastq_path\", \"ipsimdata/pairgbs_wmerge_example_R1_.fastq.gz\")\n",
    "data1.set_params(\"barcodes_path\", \"ipsimdata/pairgbs_wmerge_example_barcodes.txt\")\n",
    "data1.set_params(\"clust_threshold\", \"0.90\")\n",
    "\n",
    "data1.get_params()"
   ]
  },
  {
   "cell_type": "code",
   "execution_count": 16,
   "metadata": {},
   "outputs": [],
   "source": [
    "## other parameters to look into\n",
    "#data.set_params(\"project_dir\", \"analysis-ipyrad\")\n",
    "#data.set_params(\"sorted_fastq_path\", \"fastqs-Ped/*.fastq.gz\")\n",
    "#data.set_params(\"clust_threshold\", \"0.90\")\n",
    "#data.set_params(\"filter_adapters\", \"2\")\n",
    "#data.set_params(\"max_Hs_consens\", (5, 5))\n",
    "#data.set_params(\"trim_loci\", (0, 5, 0, 0))\n",
    "#data.set_params(\"output_formats\", \"psvnkua\")"
   ]
  },
  {
   "cell_type": "code",
   "execution_count": null,
   "metadata": {},
   "outputs": [
    {
     "name": "stdout",
     "output_type": "stream",
     "text": [
      "Assembly: ipsimdata\n"
     ]
    }
   ],
   "source": [
    "## run steps 1-2\n",
    "data1.run(\"12\")"
   ]
  },
  {
   "cell_type": "code",
   "execution_count": null,
   "metadata": {},
   "outputs": [],
   "source": [
    "## access the stats of the assembly (so far) from the .stats attribute\n",
    "data.stats"
   ]
  },
  {
   "cell_type": "code",
   "execution_count": null,
   "metadata": {},
   "outputs": [],
   "source": [
    "## create a new branch of this Assembly named data2\n",
    "## and change some parameter settings\n",
    "data2 = data1.branch(\"data2\")\n",
    "data2.set_params(\"clust_threshold\", 0.95)"
   ]
  },
  {
   "cell_type": "code",
   "execution_count": null,
   "metadata": {},
   "outputs": [],
   "source": [
    "## run steps 3-7 for the two Assemblies\n",
    "data1.run(\"34567\")\n",
    "data2.run(\"34567\")"
   ]
  },
  {
   "cell_type": "markdown",
   "metadata": {},
   "source": [
    "### Print the final assembly stats"
   ]
  },
  {
   "cell_type": "code",
   "execution_count": null,
   "metadata": {},
   "outputs": [],
   "source": [
    "## we can access the stats summary as a pandas dataframes. \n",
    "min4.stats"
   ]
  },
  {
   "cell_type": "markdown",
   "metadata": {},
   "source": [
    "### Show the location of your assembled output files"
   ]
  },
  {
   "cell_type": "code",
   "execution_count": null,
   "metadata": {},
   "outputs": [],
   "source": [
    "min4.run(\"7\")"
   ]
  }
 ],
 "metadata": {
  "kernelspec": {
   "display_name": "Python 2",
   "language": "python",
   "name": "python2"
  },
  "language_info": {
   "codemirror_mode": {
    "name": "ipython",
    "version": 2
   },
   "file_extension": ".py",
   "mimetype": "text/x-python",
   "name": "python",
   "nbconvert_exporter": "python",
   "pygments_lexer": "ipython2",
   "version": "2.7.14"
  }
 },
 "nbformat": 4,
 "nbformat_minor": 2
}
